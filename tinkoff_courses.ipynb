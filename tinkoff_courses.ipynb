{
 "cells": [
  {
   "cell_type": "markdown",
   "id": "d0837d5b",
   "metadata": {},
   "source": [
    "Предполагается, что в рамках данного задания ученики сами будут изучать документацию, как минимум используя функционал `tab` и `shift+tab` от Jupyter"
   ]
  },
  {
   "cell_type": "markdown",
   "id": "3138b8cc",
   "metadata": {},
   "source": [
    "1. Импортируйте библиотеку pandas \n",
    "2. Считайте файл `wage.csv` в DataFrame с названием `wage`. Используйте для этого функцию pd.read_csv()\n",
    "\n",
    "`person_id` - идентификатор человека\n",
    "\n",
    "`gender` - пол, 0 - женский, 1 - мужской\n",
    "\n",
    "`wage` - заработная плата в рублях"
   ]
  },
  {
   "cell_type": "code",
   "execution_count": 1,
   "id": "6339eeba",
   "metadata": {},
   "outputs": [],
   "source": [
    "import pandas as pd\n",
    "wage = pd.read_csv('wage.csv')"
   ]
  },
  {
   "cell_type": "markdown",
   "id": "4bf4d3c7",
   "metadata": {},
   "source": [
    "3. Поменяйте колонку `gender` так, чтобы были записи `F` (female) и `M` (male) вместо 0 и 1"
   ]
  },
  {
   "cell_type": "code",
   "execution_count": 2,
   "id": "89c6d18e",
   "metadata": {},
   "outputs": [],
   "source": [
    "wage.loc[(wage.gender == 0), 'gender'] = 'F'\n",
    "wage.loc[(wage.gender == 1), 'gender'] = 'M'"
   ]
  },
  {
   "cell_type": "markdown",
   "id": "11c49154",
   "metadata": {},
   "source": [
    "4. Давайте посчитаем среднюю зарплату у мужчин и женщин. Для этого используйте метод `groupby` со следующим синтаксисом:\n",
    "\n",
    "`dataframe.groupby(Название_колонки_для_группировки)[Перечисление_колонок_для_агрегации].функция_агрегации()`"
   ]
  },
  {
   "cell_type": "code",
   "execution_count": 3,
   "id": "36fe6d0b",
   "metadata": {},
   "outputs": [
    {
     "data": {
      "text/plain": [
       "gender\n",
       "F    40855.747261\n",
       "M    46815.944005\n",
       "Name: wage, dtype: float64"
      ]
     },
     "execution_count": 3,
     "metadata": {},
     "output_type": "execute_result"
    }
   ],
   "source": [
    "wage.groupby('gender')['wage'].mean()"
   ]
  },
  {
   "cell_type": "markdown",
   "id": "65b98f6a",
   "metadata": {},
   "source": [
    "5. Теперь взглянем внимательнее на данные и обнаружим, что некоторые люди попали в выборку несколько раз. \n",
    "    1. Найдите таких людей. Подсказка: `value_counts()`\n",
    "    0. Убедитесь, что записи по ним с одинаковым `wage`. Возможно, тут вам пригодится функция агрегации `nunique()`, отображающая количество разных значений\n",
    "    0. Избавьтесь от повторяющихся значений. Подсказка: `drop_duplicates()`"
   ]
  },
  {
   "cell_type": "code",
   "execution_count": 4,
   "id": "287fdce7",
   "metadata": {},
   "outputs": [
    {
     "data": {
      "text/plain": [
       "17     13434.655493\n",
       "16     13434.655493\n",
       "15    273483.609236\n",
       "14    273483.609236\n",
       "13     23547.663281\n",
       "12     23547.663281\n",
       "Name: wage, dtype: float64"
      ]
     },
     "execution_count": 4,
     "metadata": {},
     "output_type": "execute_result"
    }
   ],
   "source": [
    "dubli = wage.person_id.value_counts()\n",
    "wage.loc[dubli[dubli > 1].index, 'wage']"
   ]
  },
  {
   "cell_type": "code",
   "execution_count": 5,
   "id": "0a9b600d",
   "metadata": {},
   "outputs": [],
   "source": [
    "wage = wage.drop_duplicates()"
   ]
  },
  {
   "cell_type": "markdown",
   "id": "b575aac7",
   "metadata": {},
   "source": [
    "6. Теперь посмотрим внимательнее на зарплаты\n",
    "    1. Охарактеризуйте имеющиеся данные по зарплатам. Подсказка: `describe`\n",
    "    1. Избавьтесь от бессмысленных значений"
   ]
  },
  {
   "cell_type": "code",
   "execution_count": 6,
   "id": "b1ae52d2",
   "metadata": {},
   "outputs": [
    {
     "data": {
      "text/html": [
       "<div>\n",
       "<style scoped>\n",
       "    .dataframe tbody tr th:only-of-type {\n",
       "        vertical-align: middle;\n",
       "    }\n",
       "\n",
       "    .dataframe tbody tr th {\n",
       "        vertical-align: top;\n",
       "    }\n",
       "\n",
       "    .dataframe thead th {\n",
       "        text-align: right;\n",
       "    }\n",
       "</style>\n",
       "<table border=\"1\" class=\"dataframe\">\n",
       "  <thead>\n",
       "    <tr style=\"text-align: right;\">\n",
       "      <th></th>\n",
       "      <th>person_id</th>\n",
       "      <th>wage</th>\n",
       "    </tr>\n",
       "  </thead>\n",
       "  <tbody>\n",
       "    <tr>\n",
       "      <th>count</th>\n",
       "      <td>1000.000000</td>\n",
       "      <td>1000.000000</td>\n",
       "    </tr>\n",
       "    <tr>\n",
       "      <th>mean</th>\n",
       "      <td>499.500000</td>\n",
       "      <td>43694.227404</td>\n",
       "    </tr>\n",
       "    <tr>\n",
       "      <th>std</th>\n",
       "      <td>288.819436</td>\n",
       "      <td>55352.539343</td>\n",
       "    </tr>\n",
       "    <tr>\n",
       "      <th>min</th>\n",
       "      <td>0.000000</td>\n",
       "      <td>-287418.645743</td>\n",
       "    </tr>\n",
       "    <tr>\n",
       "      <th>25%</th>\n",
       "      <td>249.750000</td>\n",
       "      <td>14489.682367</td>\n",
       "    </tr>\n",
       "    <tr>\n",
       "      <th>50%</th>\n",
       "      <td>499.500000</td>\n",
       "      <td>27309.529498</td>\n",
       "    </tr>\n",
       "    <tr>\n",
       "      <th>75%</th>\n",
       "      <td>749.250000</td>\n",
       "      <td>52021.080258</td>\n",
       "    </tr>\n",
       "    <tr>\n",
       "      <th>max</th>\n",
       "      <td>999.000000</td>\n",
       "      <td>755320.874132</td>\n",
       "    </tr>\n",
       "  </tbody>\n",
       "</table>\n",
       "</div>"
      ],
      "text/plain": [
       "         person_id           wage\n",
       "count  1000.000000    1000.000000\n",
       "mean    499.500000   43694.227404\n",
       "std     288.819436   55352.539343\n",
       "min       0.000000 -287418.645743\n",
       "25%     249.750000   14489.682367\n",
       "50%     499.500000   27309.529498\n",
       "75%     749.250000   52021.080258\n",
       "max     999.000000  755320.874132"
      ]
     },
     "execution_count": 6,
     "metadata": {},
     "output_type": "execute_result"
    }
   ],
   "source": [
    "wage.describe()"
   ]
  },
  {
   "cell_type": "code",
   "execution_count": 7,
   "id": "477c7b74",
   "metadata": {},
   "outputs": [],
   "source": [
    "wage = wage[wage['wage'] > 0]"
   ]
  },
  {
   "cell_type": "code",
   "execution_count": 8,
   "id": "b3c76c34",
   "metadata": {},
   "outputs": [
    {
     "data": {
      "text/html": [
       "<div>\n",
       "<style scoped>\n",
       "    .dataframe tbody tr th:only-of-type {\n",
       "        vertical-align: middle;\n",
       "    }\n",
       "\n",
       "    .dataframe tbody tr th {\n",
       "        vertical-align: top;\n",
       "    }\n",
       "\n",
       "    .dataframe thead th {\n",
       "        text-align: right;\n",
       "    }\n",
       "</style>\n",
       "<table border=\"1\" class=\"dataframe\">\n",
       "  <thead>\n",
       "    <tr style=\"text-align: right;\">\n",
       "      <th></th>\n",
       "      <th>person_id</th>\n",
       "      <th>wage</th>\n",
       "    </tr>\n",
       "  </thead>\n",
       "  <tbody>\n",
       "    <tr>\n",
       "      <th>count</th>\n",
       "      <td>995.000000</td>\n",
       "      <td>995.000000</td>\n",
       "    </tr>\n",
       "    <tr>\n",
       "      <th>mean</th>\n",
       "      <td>501.844221</td>\n",
       "      <td>44306.969585</td>\n",
       "    </tr>\n",
       "    <tr>\n",
       "      <th>std</th>\n",
       "      <td>287.638377</td>\n",
       "      <td>54302.194392</td>\n",
       "    </tr>\n",
       "    <tr>\n",
       "      <th>min</th>\n",
       "      <td>0.000000</td>\n",
       "      <td>945.648458</td>\n",
       "    </tr>\n",
       "    <tr>\n",
       "      <th>25%</th>\n",
       "      <td>253.500000</td>\n",
       "      <td>14683.306148</td>\n",
       "    </tr>\n",
       "    <tr>\n",
       "      <th>50%</th>\n",
       "      <td>502.000000</td>\n",
       "      <td>27519.361794</td>\n",
       "    </tr>\n",
       "    <tr>\n",
       "      <th>75%</th>\n",
       "      <td>750.500000</td>\n",
       "      <td>52267.313664</td>\n",
       "    </tr>\n",
       "    <tr>\n",
       "      <th>max</th>\n",
       "      <td>999.000000</td>\n",
       "      <td>755320.874132</td>\n",
       "    </tr>\n",
       "  </tbody>\n",
       "</table>\n",
       "</div>"
      ],
      "text/plain": [
       "        person_id           wage\n",
       "count  995.000000     995.000000\n",
       "mean   501.844221   44306.969585\n",
       "std    287.638377   54302.194392\n",
       "min      0.000000     945.648458\n",
       "25%    253.500000   14683.306148\n",
       "50%    502.000000   27519.361794\n",
       "75%    750.500000   52267.313664\n",
       "max    999.000000  755320.874132"
      ]
     },
     "execution_count": 8,
     "metadata": {},
     "output_type": "execute_result"
    }
   ],
   "source": [
    "wage.describe()"
   ]
  },
  {
   "cell_type": "markdown",
   "id": "25cb1f31",
   "metadata": {},
   "source": [
    "7. Давайте теперь посмотрим на зарплату с учетом бонуса. Для этого нам понадобится таблица `bonus.csv`. Считайте ее в переменную `bonus`. Заметьте, что она сохранена немного в другом формате, и вам понадобится уточнить параметр `sep` - разделитель записей. Сравните текущий файл с предыдущим и попробуйте решить проблему"
   ]
  },
  {
   "cell_type": "code",
   "execution_count": 9,
   "id": "fe1ffe88",
   "metadata": {},
   "outputs": [],
   "source": [
    "bonus = pd.read_csv('bonus.csv', sep=';')"
   ]
  },
  {
   "cell_type": "markdown",
   "id": "c63d362b",
   "metadata": {},
   "source": [
    "8. Чтобы посчитать итоговую зарплату, нам нужно по каждому человеку знать и оклад, и премию. Для этого надо будет соединить (сджойнить) таблицы по `person_id`. Используйте для этого функцию `pd.merge`. Помните, что параметр `how` должен быть `'outer'`, чтобы сохранить те записи, что есть только в одной таблице. Результат запишите в новый dataframe `df`"
   ]
  },
  {
   "cell_type": "code",
   "execution_count": 10,
   "id": "8cc0fc10",
   "metadata": {},
   "outputs": [],
   "source": [
    "df = wage.merge(bonus, how='outer')"
   ]
  },
  {
   "cell_type": "markdown",
   "id": "21b61387",
   "metadata": {},
   "source": [
    "9. Наконец, давайте посчитаем итоговую зарплату\n",
    "    1. Замените отсутствующие записи в колонке `bonus` нулями\n",
    "    1. Уберите людей без `wage` - это те \"плохие\" записи, от которых мы избавлялись на предыдущих шагах\n",
    "    1. Сделайте новую колонку `total`, которая будет равна 12 окладам и премии\n",
    "    1. Посчитайте среднюю и медианную итоговую зарплату в разрезе по полу. Подсказка: вместо функции агрегации можно написать `.agg()` и перечислить внутри нужные агрегаты"
   ]
  },
  {
   "cell_type": "code",
   "execution_count": 11,
   "id": "046bf2a6",
   "metadata": {},
   "outputs": [
    {
     "data": {
      "text/html": [
       "<div>\n",
       "<style scoped>\n",
       "    .dataframe tbody tr th:only-of-type {\n",
       "        vertical-align: middle;\n",
       "    }\n",
       "\n",
       "    .dataframe tbody tr th {\n",
       "        vertical-align: top;\n",
       "    }\n",
       "\n",
       "    .dataframe thead tr th {\n",
       "        text-align: left;\n",
       "    }\n",
       "\n",
       "    .dataframe thead tr:last-of-type th {\n",
       "        text-align: right;\n",
       "    }\n",
       "</style>\n",
       "<table border=\"1\" class=\"dataframe\">\n",
       "  <thead>\n",
       "    <tr>\n",
       "      <th></th>\n",
       "      <th colspan=\"2\" halign=\"left\">wage</th>\n",
       "    </tr>\n",
       "    <tr>\n",
       "      <th></th>\n",
       "      <th>mean</th>\n",
       "      <th>median</th>\n",
       "    </tr>\n",
       "    <tr>\n",
       "      <th>gender</th>\n",
       "      <th></th>\n",
       "      <th></th>\n",
       "    </tr>\n",
       "  </thead>\n",
       "  <tbody>\n",
       "    <tr>\n",
       "      <th>F</th>\n",
       "      <td>41353.986687</td>\n",
       "      <td>26721.001610</td>\n",
       "    </tr>\n",
       "    <tr>\n",
       "      <th>M</th>\n",
       "      <td>47081.694269</td>\n",
       "      <td>29006.633828</td>\n",
       "    </tr>\n",
       "  </tbody>\n",
       "</table>\n",
       "</div>"
      ],
      "text/plain": [
       "                wage              \n",
       "                mean        median\n",
       "gender                            \n",
       "F       41353.986687  26721.001610\n",
       "M       47081.694269  29006.633828"
      ]
     },
     "execution_count": 11,
     "metadata": {},
     "output_type": "execute_result"
    }
   ],
   "source": [
    "df['bonus'].fillna(value = 0, inplace = True)\n",
    "df = df[df['wage'] > 0]\n",
    "df = df.assign(total = df.wage * 12 + df.bonus)\n",
    "df[['gender', 'wage']].groupby('gender').agg(['mean', 'median'])"
   ]
  },
  {
   "cell_type": "markdown",
   "id": "153d4f6f",
   "metadata": {},
   "source": [
    "10. Сохраните `df` в файл, используя метод `to_csv()`. Не записывайте индексы"
   ]
  },
  {
   "cell_type": "code",
   "execution_count": 12,
   "id": "d2d44fd9",
   "metadata": {},
   "outputs": [],
   "source": [
    "df.to_csv('new_df_wage.csv', index=False)"
   ]
  }
 ],
 "metadata": {
  "kernelspec": {
   "display_name": "Python 3 (ipykernel)",
   "language": "python",
   "name": "python3"
  },
  "language_info": {
   "codemirror_mode": {
    "name": "ipython",
    "version": 3
   },
   "file_extension": ".py",
   "mimetype": "text/x-python",
   "name": "python",
   "nbconvert_exporter": "python",
   "pygments_lexer": "ipython3",
   "version": "3.9.6"
  },
  "toc": {
   "base_numbering": 1,
   "nav_menu": {},
   "number_sections": true,
   "sideBar": true,
   "skip_h1_title": false,
   "title_cell": "Table of Contents",
   "title_sidebar": "Contents",
   "toc_cell": false,
   "toc_position": {},
   "toc_section_display": true,
   "toc_window_display": false
  }
 },
 "nbformat": 4,
 "nbformat_minor": 5
}
